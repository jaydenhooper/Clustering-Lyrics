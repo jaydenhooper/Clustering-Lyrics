{
 "cells": [
  {
   "cell_type": "markdown",
   "metadata": {},
   "source": [
    "The purpose of the project is this course is for you to show what you have learnt. It is a bit more free that the assignments, we want you to show us that you can use Python to investigate a dataset. "
   ]
  },
  {
   "cell_type": "code",
   "execution_count": 1,
   "metadata": {},
   "outputs": [],
   "source": [
    "import numpy as np\n",
    "import pandas as pd\n",
    "import matplotlib.pyplot as pl\n",
    "%matplotlib inline"
   ]
  },
  {
   "cell_type": "markdown",
   "metadata": {},
   "source": [
    "We are going to look at a different type of data, which is based on words, in this case song lyrics. \n",
    "\n",
    "Since the algorithms that we have seen all take as input some form of numerical vector, we will need to turn the words into numerical vectors. There are a few ways to do this, but the one we are going to use is call a Bag of Words. The reason for calling it a Bag is to suggest that the order of the words doesn't matter, just their frequency. Essentially, it counts how often each word gets used in each piece of text, and then the counts form the input vector. These counts are often normalised by the number of words in the text, since otherwise longer pieces get higher scores than short ones. "
   ]
  },
  {
   "cell_type": "markdown",
   "metadata": {},
   "source": [
    "The dataset we are going to use is a set of song lyrics. There is a zip file on Blackboard containing the lyrics of 80 songs (that Rolling Stone magazine decided were the most amazing songs there are) called `rs_lyrics.zip`. Download it and unzip it. It will make a folder called `rs_lyrics` with the songs inside. The following code will then read then in, and store the songtitle and lyrics in a dataframe."
   ]
  },
  {
   "cell_type": "code",
   "execution_count": 11,
   "metadata": {},
   "outputs": [
    {
     "data": {
      "text/html": [
       "<div>\n",
       "<style scoped>\n",
       "    .dataframe tbody tr th:only-of-type {\n",
       "        vertical-align: middle;\n",
       "    }\n",
       "\n",
       "    .dataframe tbody tr th {\n",
       "        vertical-align: top;\n",
       "    }\n",
       "\n",
       "    .dataframe thead th {\n",
       "        text-align: right;\n",
       "    }\n",
       "</style>\n",
       "<table border=\"1\" class=\"dataframe\">\n",
       "  <thead>\n",
       "    <tr style=\"text-align: right;\">\n",
       "      <th></th>\n",
       "      <th>Name</th>\n",
       "      <th>Lyrics</th>\n",
       "    </tr>\n",
       "  </thead>\n",
       "  <tbody>\n",
       "    <tr>\n",
       "      <th>0</th>\n",
       "      <td>1999</td>\n",
       "      <td>I was dreamin' when I wrote this Forgive me if...</td>\n",
       "    </tr>\n",
       "    <tr>\n",
       "      <th>1</th>\n",
       "      <td>all_apologies</td>\n",
       "      <td>What else should I be All apologies What else ...</td>\n",
       "    </tr>\n",
       "    <tr>\n",
       "      <th>2</th>\n",
       "      <td>anarchy_in_the_uk</td>\n",
       "      <td>I am an antichrist uh I am an anarchist Don't ...</td>\n",
       "    </tr>\n",
       "    <tr>\n",
       "      <th>3</th>\n",
       "      <td>a_day_in_the_life</td>\n",
       "      <td>I read the news today oh boy About a lucky man...</td>\n",
       "    </tr>\n",
       "    <tr>\n",
       "      <th>4</th>\n",
       "      <td>back_in_black</td>\n",
       "      <td>Back in black I hit the sack I've been too lon...</td>\n",
       "    </tr>\n",
       "  </tbody>\n",
       "</table>\n",
       "</div>"
      ],
      "text/plain": [
       "                Name                                             Lyrics\n",
       "0               1999  I was dreamin' when I wrote this Forgive me if...\n",
       "1      all_apologies  What else should I be All apologies What else ...\n",
       "2  anarchy_in_the_uk  I am an antichrist uh I am an anarchist Don't ...\n",
       "3  a_day_in_the_life  I read the news today oh boy About a lucky man...\n",
       "4      back_in_black  Back in black I hit the sack I've been too lon..."
      ]
     },
     "execution_count": 11,
     "metadata": {},
     "output_type": "execute_result"
    }
   ],
   "source": [
    "import os\n",
    "df = pd.DataFrame(columns = [\"Name\",\"Lyrics\"])\n",
    "i=0\n",
    "for filename in os.listdir('rs_lyrics'):\n",
    "   with open(os.path.join('rs_lyrics', filename), 'r') as f:\n",
    "        df.loc[i] =[filename[:-4], f.read().splitlines()]\n",
    "        df[\"Lyrics\"][i] = \" \".join(df[\"Lyrics\"][i])\n",
    "        i+=1\n",
    "df.head()"
   ]
  },
  {
   "cell_type": "code",
   "execution_count": 2,
   "metadata": {},
   "outputs": [
    {
     "ename": "FileNotFoundError",
     "evalue": "[WinError 3] The system cannot find the path specified: '../../Datasets/rs_lyrics/'",
     "output_type": "error",
     "traceback": [
      "\u001b[1;31m---------------------------------------------------------------------------\u001b[0m",
      "\u001b[1;31mFileNotFoundError\u001b[0m                         Traceback (most recent call last)",
      "\u001b[1;32mc:\\Users\\Shan & Jay\\Desktop\\University\\Uni Year 2, Tri 2\\DATA201\\All git folders\\project\\Project.ipynb Cell 5\u001b[0m in \u001b[0;36m<cell line: 4>\u001b[1;34m()\u001b[0m\n\u001b[0;32m      <a href='vscode-notebook-cell:/c%3A/Users/Shan%20%26%20Jay/Desktop/University/Uni%20Year%202%2C%20Tri%202/DATA201/All%20git%20folders/project/Project.ipynb#W4sZmlsZQ%3D%3D?line=1'>2</a>\u001b[0m df \u001b[39m=\u001b[39m pd\u001b[39m.\u001b[39mDataFrame(columns \u001b[39m=\u001b[39m [\u001b[39m\"\u001b[39m\u001b[39mName\u001b[39m\u001b[39m\"\u001b[39m,\u001b[39m\"\u001b[39m\u001b[39mLyrics\u001b[39m\u001b[39m\"\u001b[39m])\n\u001b[0;32m      <a href='vscode-notebook-cell:/c%3A/Users/Shan%20%26%20Jay/Desktop/University/Uni%20Year%202%2C%20Tri%202/DATA201/All%20git%20folders/project/Project.ipynb#W4sZmlsZQ%3D%3D?line=2'>3</a>\u001b[0m i\u001b[39m=\u001b[39m\u001b[39m0\u001b[39m\n\u001b[1;32m----> <a href='vscode-notebook-cell:/c%3A/Users/Shan%20%26%20Jay/Desktop/University/Uni%20Year%202%2C%20Tri%202/DATA201/All%20git%20folders/project/Project.ipynb#W4sZmlsZQ%3D%3D?line=3'>4</a>\u001b[0m \u001b[39mfor\u001b[39;00m filename \u001b[39min\u001b[39;00m os\u001b[39m.\u001b[39;49mlistdir(\u001b[39m'\u001b[39;49m\u001b[39m../../Datasets/rs_lyrics/\u001b[39;49m\u001b[39m'\u001b[39;49m):\n\u001b[0;32m      <a href='vscode-notebook-cell:/c%3A/Users/Shan%20%26%20Jay/Desktop/University/Uni%20Year%202%2C%20Tri%202/DATA201/All%20git%20folders/project/Project.ipynb#W4sZmlsZQ%3D%3D?line=4'>5</a>\u001b[0m    \u001b[39mwith\u001b[39;00m \u001b[39mopen\u001b[39m(os\u001b[39m.\u001b[39mpath\u001b[39m.\u001b[39mjoin(\u001b[39m'\u001b[39m\u001b[39m../../Datasets/rs_lyrics\u001b[39m\u001b[39m'\u001b[39m, filename), \u001b[39m'\u001b[39m\u001b[39mr\u001b[39m\u001b[39m'\u001b[39m) \u001b[39mas\u001b[39;00m f:\n\u001b[0;32m      <a href='vscode-notebook-cell:/c%3A/Users/Shan%20%26%20Jay/Desktop/University/Uni%20Year%202%2C%20Tri%202/DATA201/All%20git%20folders/project/Project.ipynb#W4sZmlsZQ%3D%3D?line=5'>6</a>\u001b[0m         df\u001b[39m.\u001b[39mloc[i] \u001b[39m=\u001b[39m[filename[:\u001b[39m-\u001b[39m\u001b[39m4\u001b[39m], f\u001b[39m.\u001b[39mread()\u001b[39m.\u001b[39msplitlines()]\n",
      "\u001b[1;31mFileNotFoundError\u001b[0m: [WinError 3] The system cannot find the path specified: '../../Datasets/rs_lyrics/'"
     ]
    }
   ],
   "source": [
    "import os\n",
    "df = pd.DataFrame(columns = [\"Name\",\"Lyrics\"])\n",
    "i=0\n",
    "for filename in os.listdir('../../Datasets/rs_lyrics/'):\n",
    "   with open(os.path.join('../../Datasets/rs_lyrics', filename), 'r') as f:\n",
    "        df.loc[i] =[filename[:-4], f.read().splitlines()]\n",
    "        df[\"Lyrics\"][i] = \" \".join(df[\"Lyrics\"][i])\n",
    "        i+=1\n",
    "df.head()"
   ]
  },
  {
   "cell_type": "markdown",
   "metadata": {},
   "source": [
    "We have to do a lot of work before we can cluster word data. As the length of the vector is the number of different words in all of the texts, it can end up as a very long vector. So we want to \n",
    "- remove the unimportant words\n",
    "- remove the short words\n",
    "- remove the punctuation\n",
    "- make everything lower-case, so that \"Love\" and \"love\" are the same word.\n",
    "\n",
    "There are various ways doing all of these, but they aren't too hard to write yourself. To get single words in lower case from a string called `text` use `text.lower().strip().split()`\n",
    "That sorts out the last of those four aims for us. \n",
    "\n",
    "For the third one, you can use `translate` from the `string` module. Use `import string` and then:\n",
    "`text = text.translate(str.maketrans('', '', string.punctuation))`\n",
    "\n",
    "You should also use `text = text.translate(str.maketrans('','','(1)'))` and the same for (2) to get rid of some text that is in those files that isn't helpful for us."
   ]
  },
  {
   "cell_type": "code",
   "execution_count": null,
   "metadata": {},
   "outputs": [],
   "source": [
    "import string\n",
    "shortlist = []\n",
    "for i in range(len(df)):\n",
    "    df[\"Lyrics\"][i] = df[\"Lyrics\"][i].translate(str.maketrans('','','(1)'))\n",
    "    df[\"Lyrics\"][i] = df[\"Lyrics\"][i].translate(str.maketrans('','','(2)'))\n",
    "    df[\"Lyrics\"][i] = df[\"Lyrics\"][i].translate(str.maketrans('', '', string.punctuation))"
   ]
  },
  {
   "cell_type": "markdown",
   "metadata": {},
   "source": [
    "Now we need to write a function that deletes any word that is not important. \n",
    "\n",
    "How do you decide if a word in important? One way is to ask somebody. Linguists have a list of them, which they call stopwords. I've downloaded a list of stopwords from the web that is on Blackboards (`stopwords.txt`). Download it and load it using:\n",
    "\n",
    "`with open('../Datasets/stopwords.txt', 'r') as f:\n",
    "    stopwords = f.read().splitlines()`\n",
    "    \n",
    "Then all you need to do is return only the words that are not in that list. One way to do that is with the function below. \n"
   ]
  },
  {
   "cell_type": "code",
   "execution_count": null,
   "metadata": {},
   "outputs": [],
   "source": [
    "def removeWords(text, removeList):\n",
    "    return [word for word in text.lower().strip().split() if word not in removeList]"
   ]
  },
  {
   "cell_type": "markdown",
   "metadata": {},
   "source": [
    "## Task 1\n",
    "\n",
    "Use the function above to (1) remove the stopwords, and (2) remove any words that are less than 3 characters long (so words like 'a' or 'to'). One way to do this is to write a function that returns just the words that are more than two characters long. Another is to make a function that finds any words of 2 characters or less and puts those in a list (you can see them in the output below), and then calls removeWords() with that list. (4 marks)"
   ]
  },
  {
   "cell_type": "code",
   "execution_count": null,
   "metadata": {},
   "outputs": [],
   "source": []
  },
  {
   "cell_type": "code",
   "execution_count": null,
   "metadata": {},
   "outputs": [
    {
     "name": "stdout",
     "output_type": "stream",
     "text": [
      "['a', 'no', 'on', 'is', 'to', 'so', 'up', 'me', 'in', 'n', 'my', 'it', 'be', 'he', 'i', 'we', 'of', 'im', 'am', 'or', 'ah', 'ha', 'oh', 'an', 'uh', 'u', 'k', 'm', 'p', 'l', 'd', 'r', 'yo', 'as', 'if', 'id', 'o', 'by', 'do', 'go', 'aw', 'us', 'at', 'ya', 'di', 'de', 'ba', 'da', 'ma', 'pa', 'ow', 'ay', 'tv', 'ho', 'na', 'em', 'ax', 'eh', 'e', 's', 'c', 't', 'b', 'j', 'ol', 'v', 'ee', 'bo', 'un']\n"
     ]
    }
   ],
   "source": []
  },
  {
   "cell_type": "markdown",
   "metadata": {},
   "source": [
    "Once you have processed the data using those functions the top of your dataframe should look like this:"
   ]
  },
  {
   "cell_type": "code",
   "execution_count": null,
   "metadata": {},
   "outputs": [
    {
     "data": {
      "text/html": [
       "<div>\n",
       "<style scoped>\n",
       "    .dataframe tbody tr th:only-of-type {\n",
       "        vertical-align: middle;\n",
       "    }\n",
       "\n",
       "    .dataframe tbody tr th {\n",
       "        vertical-align: top;\n",
       "    }\n",
       "\n",
       "    .dataframe thead th {\n",
       "        text-align: right;\n",
       "    }\n",
       "</style>\n",
       "<table border=\"1\" class=\"dataframe\">\n",
       "  <thead>\n",
       "    <tr style=\"text-align: right;\">\n",
       "      <th></th>\n",
       "      <th>Name</th>\n",
       "      <th>Lyrics</th>\n",
       "    </tr>\n",
       "  </thead>\n",
       "  <tbody>\n",
       "    <tr>\n",
       "      <th>0</th>\n",
       "      <td>people_get_ready</td>\n",
       "      <td>people ready theres train comin dont need bagg...</td>\n",
       "    </tr>\n",
       "    <tr>\n",
       "      <th>1</th>\n",
       "      <td>blowin_in_the_wind</td>\n",
       "      <td>roads man walk man seas white dove sail sleeps...</td>\n",
       "    </tr>\n",
       "    <tr>\n",
       "      <th>2</th>\n",
       "      <td>in_bloom</td>\n",
       "      <td>sell kids food weather changes moods spring re...</td>\n",
       "    </tr>\n",
       "    <tr>\n",
       "      <th>3</th>\n",
       "      <td>purple_rain</td>\n",
       "      <td>meant cause sorrow meant cause pain wanted tim...</td>\n",
       "    </tr>\n",
       "    <tr>\n",
       "      <th>4</th>\n",
       "      <td>bitter_sweet_symphony</td>\n",
       "      <td>cause bittersweet symphony life try make ends ...</td>\n",
       "    </tr>\n",
       "  </tbody>\n",
       "</table>\n",
       "</div>"
      ],
      "text/plain": [
       "                    Name                                             Lyrics\n",
       "0       people_get_ready  people ready theres train comin dont need bagg...\n",
       "1     blowin_in_the_wind  roads man walk man seas white dove sail sleeps...\n",
       "2               in_bloom  sell kids food weather changes moods spring re...\n",
       "3            purple_rain  meant cause sorrow meant cause pain wanted tim...\n",
       "4  bitter_sweet_symphony  cause bittersweet symphony life try make ends ..."
      ]
     },
     "execution_count": 6,
     "metadata": {},
     "output_type": "execute_result"
    }
   ],
   "source": [
    "df.head()"
   ]
  },
  {
   "cell_type": "markdown",
   "metadata": {},
   "source": [
    "The next thing we need to do is to get the counts. Again, we could do this by hand, but it taks a long time to run if you don't have efficient code. \n",
    "## Task 2\n",
    "Look up the `TfidVectorizer` in sklearn, and work out how to use it on the Lyrics column (it uses the standard `name.fit_transform` approach in sklearn, you might also want to use `name.get_feature_names()`). Store the counts of each song in a new dataframe called counts. The output below shows the counts vectors of the 5 most common words. The columns are the 80 songs. (4 marks)"
   ]
  },
  {
   "cell_type": "code",
   "execution_count": null,
   "metadata": {},
   "outputs": [],
   "source": []
  },
  {
   "cell_type": "code",
   "execution_count": null,
   "metadata": {},
   "outputs": [
    {
     "data": {
      "text/html": [
       "<div>\n",
       "<style scoped>\n",
       "    .dataframe tbody tr th:only-of-type {\n",
       "        vertical-align: middle;\n",
       "    }\n",
       "\n",
       "    .dataframe tbody tr th {\n",
       "        vertical-align: top;\n",
       "    }\n",
       "\n",
       "    .dataframe thead th {\n",
       "        text-align: right;\n",
       "    }\n",
       "</style>\n",
       "<table border=\"1\" class=\"dataframe\">\n",
       "  <thead>\n",
       "    <tr style=\"text-align: right;\">\n",
       "      <th></th>\n",
       "      <th>0</th>\n",
       "      <th>1</th>\n",
       "      <th>2</th>\n",
       "      <th>3</th>\n",
       "      <th>4</th>\n",
       "      <th>5</th>\n",
       "      <th>6</th>\n",
       "      <th>7</th>\n",
       "      <th>8</th>\n",
       "      <th>9</th>\n",
       "      <th>...</th>\n",
       "      <th>70</th>\n",
       "      <th>71</th>\n",
       "      <th>72</th>\n",
       "      <th>73</th>\n",
       "      <th>74</th>\n",
       "      <th>75</th>\n",
       "      <th>76</th>\n",
       "      <th>77</th>\n",
       "      <th>78</th>\n",
       "      <th>79</th>\n",
       "    </tr>\n",
       "  </thead>\n",
       "  <tbody>\n",
       "    <tr>\n",
       "      <th>need</th>\n",
       "      <td>0.326337</td>\n",
       "      <td>0.0</td>\n",
       "      <td>0.0</td>\n",
       "      <td>0.0</td>\n",
       "      <td>0.023773</td>\n",
       "      <td>0.0</td>\n",
       "      <td>0.0</td>\n",
       "      <td>0.0</td>\n",
       "      <td>0.0</td>\n",
       "      <td>0.0</td>\n",
       "      <td>...</td>\n",
       "      <td>0.0</td>\n",
       "      <td>0.047717</td>\n",
       "      <td>0.0</td>\n",
       "      <td>0.0</td>\n",
       "      <td>0.0</td>\n",
       "      <td>0.0</td>\n",
       "      <td>0.0</td>\n",
       "      <td>0.0</td>\n",
       "      <td>0.000000</td>\n",
       "      <td>0.0</td>\n",
       "    </tr>\n",
       "    <tr>\n",
       "      <th>board</th>\n",
       "      <td>0.299505</td>\n",
       "      <td>0.0</td>\n",
       "      <td>0.0</td>\n",
       "      <td>0.0</td>\n",
       "      <td>0.000000</td>\n",
       "      <td>0.0</td>\n",
       "      <td>0.0</td>\n",
       "      <td>0.0</td>\n",
       "      <td>0.0</td>\n",
       "      <td>0.0</td>\n",
       "      <td>...</td>\n",
       "      <td>0.0</td>\n",
       "      <td>0.000000</td>\n",
       "      <td>0.0</td>\n",
       "      <td>0.0</td>\n",
       "      <td>0.0</td>\n",
       "      <td>0.0</td>\n",
       "      <td>0.0</td>\n",
       "      <td>0.0</td>\n",
       "      <td>0.000000</td>\n",
       "      <td>0.0</td>\n",
       "    </tr>\n",
       "    <tr>\n",
       "      <th>train</th>\n",
       "      <td>0.273674</td>\n",
       "      <td>0.0</td>\n",
       "      <td>0.0</td>\n",
       "      <td>0.0</td>\n",
       "      <td>0.000000</td>\n",
       "      <td>0.0</td>\n",
       "      <td>0.0</td>\n",
       "      <td>0.0</td>\n",
       "      <td>0.0</td>\n",
       "      <td>0.0</td>\n",
       "      <td>...</td>\n",
       "      <td>0.0</td>\n",
       "      <td>0.000000</td>\n",
       "      <td>0.0</td>\n",
       "      <td>0.0</td>\n",
       "      <td>0.0</td>\n",
       "      <td>0.0</td>\n",
       "      <td>0.0</td>\n",
       "      <td>0.0</td>\n",
       "      <td>0.000000</td>\n",
       "      <td>0.0</td>\n",
       "    </tr>\n",
       "    <tr>\n",
       "      <th>faith</th>\n",
       "      <td>0.255347</td>\n",
       "      <td>0.0</td>\n",
       "      <td>0.0</td>\n",
       "      <td>0.0</td>\n",
       "      <td>0.000000</td>\n",
       "      <td>0.0</td>\n",
       "      <td>0.0</td>\n",
       "      <td>0.0</td>\n",
       "      <td>0.0</td>\n",
       "      <td>0.0</td>\n",
       "      <td>...</td>\n",
       "      <td>0.0</td>\n",
       "      <td>0.000000</td>\n",
       "      <td>0.0</td>\n",
       "      <td>0.0</td>\n",
       "      <td>0.0</td>\n",
       "      <td>0.0</td>\n",
       "      <td>0.0</td>\n",
       "      <td>0.0</td>\n",
       "      <td>0.000000</td>\n",
       "      <td>0.0</td>\n",
       "    </tr>\n",
       "    <tr>\n",
       "      <th>ready</th>\n",
       "      <td>0.241131</td>\n",
       "      <td>0.0</td>\n",
       "      <td>0.0</td>\n",
       "      <td>0.0</td>\n",
       "      <td>0.000000</td>\n",
       "      <td>0.0</td>\n",
       "      <td>0.0</td>\n",
       "      <td>0.0</td>\n",
       "      <td>0.0</td>\n",
       "      <td>0.0</td>\n",
       "      <td>...</td>\n",
       "      <td>0.0</td>\n",
       "      <td>0.000000</td>\n",
       "      <td>0.0</td>\n",
       "      <td>0.0</td>\n",
       "      <td>0.0</td>\n",
       "      <td>0.0</td>\n",
       "      <td>0.0</td>\n",
       "      <td>0.0</td>\n",
       "      <td>0.049384</td>\n",
       "      <td>0.0</td>\n",
       "    </tr>\n",
       "  </tbody>\n",
       "</table>\n",
       "<p>5 rows × 80 columns</p>\n",
       "</div>"
      ],
      "text/plain": [
       "             0    1    2    3         4    5    6    7    8    9   ...   70  \\\n",
       "need   0.326337  0.0  0.0  0.0  0.023773  0.0  0.0  0.0  0.0  0.0  ...  0.0   \n",
       "board  0.299505  0.0  0.0  0.0  0.000000  0.0  0.0  0.0  0.0  0.0  ...  0.0   \n",
       "train  0.273674  0.0  0.0  0.0  0.000000  0.0  0.0  0.0  0.0  0.0  ...  0.0   \n",
       "faith  0.255347  0.0  0.0  0.0  0.000000  0.0  0.0  0.0  0.0  0.0  ...  0.0   \n",
       "ready  0.241131  0.0  0.0  0.0  0.000000  0.0  0.0  0.0  0.0  0.0  ...  0.0   \n",
       "\n",
       "             71   72   73   74   75   76   77        78   79  \n",
       "need   0.047717  0.0  0.0  0.0  0.0  0.0  0.0  0.000000  0.0  \n",
       "board  0.000000  0.0  0.0  0.0  0.0  0.0  0.0  0.000000  0.0  \n",
       "train  0.000000  0.0  0.0  0.0  0.0  0.0  0.0  0.000000  0.0  \n",
       "faith  0.000000  0.0  0.0  0.0  0.0  0.0  0.0  0.000000  0.0  \n",
       "ready  0.000000  0.0  0.0  0.0  0.0  0.0  0.0  0.049384  0.0  \n",
       "\n",
       "[5 rows x 80 columns]"
      ]
     },
     "execution_count": 8,
     "metadata": {},
     "output_type": "execute_result"
    }
   ],
   "source": [
    "counts.T.nlargest(5, 0)"
   ]
  },
  {
   "cell_type": "markdown",
   "metadata": {},
   "source": [
    "# Task 3\n",
    "Use PCA to plot the positions of the songs in 2D using the counts vectors. It isn't so informative yet, since we don't have any information about clusters in the data. (3 marks)"
   ]
  },
  {
   "cell_type": "code",
   "execution_count": null,
   "metadata": {},
   "outputs": [],
   "source": []
  },
  {
   "cell_type": "code",
   "execution_count": null,
   "metadata": {},
   "outputs": [
    {
     "name": "stderr",
     "output_type": "stream",
     "text": [
      "/home/marslast/anaconda3/lib/python3.7/site-packages/matplotlib/cbook/__init__.py:1298: ComplexWarning: Casting complex values to real discards the imaginary part\n",
      "  return np.asarray(x, float)\n"
     ]
    },
    {
     "data": {
      "text/plain": [
       "[<matplotlib.lines.Line2D at 0x7f55ea526450>]"
      ]
     },
     "execution_count": 12,
     "metadata": {},
     "output_type": "execute_result"
    },
    {
     "data": {
      "image/png": "[encoded data removed]",
      "text/plain": [
       "<Figure size 432x288 with 1 Axes>"
      ]
     },
     "metadata": {
      "needs_background": "light"
     },
     "output_type": "display_data"
    }
   ],
   "source": []
  },
  {
   "cell_type": "markdown",
   "metadata": {},
   "source": [
    "## Task 4\n",
    "The next thing to do is to try and cluster the songs together according to their count vectors. You can use any algorithm you like, but I recommend $k$-means. For now, just pick an arbitrary number of clusters (I used 4), but make sure you can cluster the data. Take a look at the songs inside a cluster and see if you think they have any similarities. (4 marks)"
   ]
  },
  {
   "cell_type": "code",
   "execution_count": null,
   "metadata": {},
   "outputs": [
    {
     "data": {
      "text/plain": [
       "KMeans(algorithm='full', n_clusters=4, random_state=1)"
      ]
     },
     "execution_count": 13,
     "metadata": {},
     "output_type": "execute_result"
    }
   ],
   "source": []
  },
  {
   "cell_type": "markdown",
   "metadata": {},
   "source": [
    "We need to do some more work to work out how many clusters there are. To do this we will take is to see which words are the most common in each cluster. If the cluster is good, then we would expect to see quite a few words in common between the songs in the cluster. There is a function below (`get_top_features_cluster`) that finds them if you give it predictions make by the $k$-means algorithm and the number of words you want. \n",
    "\n",
    "## Task 5\n",
    "Work out how to use the algorithm on the output from $k$-means, and then plot the bar charts for the different clusters. (`df.plot.bar()` will plot things from a Pandas dataframe). You should also use the PCA data and plot the points in different colours according to the clusters kmeans has found. Use both of these resources to decide how many clusters there are in the data.Explain your answer. (7 marks)"
   ]
  },
  {
   "cell_type": "code",
   "execution_count": null,
   "metadata": {},
   "outputs": [],
   "source": [
    "def get_top_features_cluster(counts, prediction, nfeatures):\n",
    "    labels = np.unique(prediction)\n",
    "    df1 = []\n",
    "    for label in labels:\n",
    "        inds = np.where(prediction==label) \n",
    "        means = np.mean(counts[inds], axis = 0) \n",
    "        sorted_means = np.argsort(means)[::-1][:nfeatures] \n",
    "        features = vectorizer.get_feature_names()\n",
    "        best_features = [(features[i], means[i]) for i in sorted_means]\n",
    "        newdf = pd.DataFrame(best_features, columns = ['features', 'score'])\n",
    "        df1.append(newdf)\n",
    "    return df1"
   ]
  },
  {
   "cell_type": "code",
   "execution_count": null,
   "metadata": {},
   "outputs": [
    {
     "name": "stderr",
     "output_type": "stream",
     "text": [
      "/home/marslast/miniconda3/lib/python3.8/site-packages/sklearn/utils/deprecation.py:87: FutureWarning: Function get_feature_names is deprecated; get_feature_names is deprecated in 1.0 and will be removed in 1.2. Please use get_feature_names_out instead.\n",
      "  warnings.warn(msg, category=FutureWarning)\n"
     ]
    },
    {
     "data": {
      "image/png": "[encoded data removed]",
      "text/plain": [
       "<Figure size 432x288 with 1 Axes>"
      ]
     },
     "metadata": {
      "needs_background": "light"
     },
     "output_type": "display_data"
    },
    {
     "data": {
      "image/png": "[encoded data removed]",
      "text/plain": [
       "<Figure size 432x288 with 1 Axes>"
      ]
     },
     "metadata": {
      "needs_background": "light"
     },
     "output_type": "display_data"
    },
    {
     "data": {
      "image/png": "[encoded data removed]",
      "text/plain": [
       "<Figure size 432x288 with 1 Axes>"
      ]
     },
     "metadata": {
      "needs_background": "light"
     },
     "output_type": "display_data"
    },
    {
     "data": {
      "image/png": "[encoded data removed]",
      "text/plain": [
       "<Figure size 432x288 with 1 Axes>"
      ]
     },
     "metadata": {
      "needs_background": "light"
     },
     "output_type": "display_data"
    }
   ],
   "source": []
  },
  {
   "cell_type": "markdown",
   "metadata": {},
   "source": [
    "## Task 6\n",
    "Repeat this analysis on the dataset of national anthems that is available on Blackboard as `anthems.csv` and comment on the differences in words and clusters. This dataset includes the continent that the country is on. Does using this variable change your clusters? (8 marks)"
   ]
  },
  {
   "cell_type": "code",
   "execution_count": 4,
   "metadata": {},
   "outputs": [
    {
     "data": {
      "text/html": [
       "<div>\n",
       "<style scoped>\n",
       "    .dataframe tbody tr th:only-of-type {\n",
       "        vertical-align: middle;\n",
       "    }\n",
       "\n",
       "    .dataframe tbody tr th {\n",
       "        vertical-align: top;\n",
       "    }\n",
       "\n",
       "    .dataframe thead th {\n",
       "        text-align: right;\n",
       "    }\n",
       "</style>\n",
       "<table border=\"1\" class=\"dataframe\">\n",
       "  <thead>\n",
       "    <tr style=\"text-align: right;\">\n",
       "      <th></th>\n",
       "      <th>Country</th>\n",
       "      <th>Alpha-2</th>\n",
       "      <th>Alpha-3</th>\n",
       "      <th>Continent</th>\n",
       "      <th>Anthem</th>\n",
       "    </tr>\n",
       "  </thead>\n",
       "  <tbody>\n",
       "    <tr>\n",
       "      <th>0</th>\n",
       "      <td>Albania</td>\n",
       "      <td>AL</td>\n",
       "      <td>ALB</td>\n",
       "      <td>Europe</td>\n",
       "      <td>Around our flag we stand united, With one wish...</td>\n",
       "    </tr>\n",
       "    <tr>\n",
       "      <th>1</th>\n",
       "      <td>Armenia</td>\n",
       "      <td>AM</td>\n",
       "      <td>ARM</td>\n",
       "      <td>Europe</td>\n",
       "      <td>Our Fatherland, free, independent, That has fo...</td>\n",
       "    </tr>\n",
       "    <tr>\n",
       "      <th>2</th>\n",
       "      <td>Austria</td>\n",
       "      <td>AT</td>\n",
       "      <td>AUT</td>\n",
       "      <td>Europe</td>\n",
       "      <td>Land of mountains, land by the river, Land of ...</td>\n",
       "    </tr>\n",
       "    <tr>\n",
       "      <th>3</th>\n",
       "      <td>Azerbaijan</td>\n",
       "      <td>AZ</td>\n",
       "      <td>AZE</td>\n",
       "      <td>Europe</td>\n",
       "      <td>Azerbaijan, Azerbaijan! The glorious Fatherlan...</td>\n",
       "    </tr>\n",
       "    <tr>\n",
       "      <th>4</th>\n",
       "      <td>Belarus</td>\n",
       "      <td>BY</td>\n",
       "      <td>BLR</td>\n",
       "      <td>Europe</td>\n",
       "      <td>We, Belarusians, are peaceful people, Wholehea...</td>\n",
       "    </tr>\n",
       "  </tbody>\n",
       "</table>\n",
       "</div>"
      ],
      "text/plain": [
       "      Country Alpha-2 Alpha-3 Continent  \\\n",
       "0     Albania      AL     ALB    Europe   \n",
       "1     Armenia      AM     ARM    Europe   \n",
       "2     Austria      AT     AUT    Europe   \n",
       "3  Azerbaijan      AZ     AZE    Europe   \n",
       "4     Belarus      BY     BLR    Europe   \n",
       "\n",
       "                                              Anthem  \n",
       "0  Around our flag we stand united, With one wish...  \n",
       "1  Our Fatherland, free, independent, That has fo...  \n",
       "2  Land of mountains, land by the river, Land of ...  \n",
       "3  Azerbaijan, Azerbaijan! The glorious Fatherlan...  \n",
       "4  We, Belarusians, are peaceful people, Wholehea...  "
      ]
     },
     "execution_count": 4,
     "metadata": {},
     "output_type": "execute_result"
    }
   ],
   "source": [
    "data = pd.read_csv(\"anthems.csv\", encoding = 'utf-8')\n",
    "data.head()"
   ]
  },
  {
   "cell_type": "code",
   "execution_count": null,
   "metadata": {},
   "outputs": [],
   "source": [
    "data = pd.read_csv('../../Datasets/anthems.csv', encoding='utf-8')"
   ]
  },
  {
   "cell_type": "code",
   "execution_count": null,
   "metadata": {},
   "outputs": [
    {
     "data": {
      "text/html": [
       "<div>\n",
       "<style scoped>\n",
       "    .dataframe tbody tr th:only-of-type {\n",
       "        vertical-align: middle;\n",
       "    }\n",
       "\n",
       "    .dataframe tbody tr th {\n",
       "        vertical-align: top;\n",
       "    }\n",
       "\n",
       "    .dataframe thead th {\n",
       "        text-align: right;\n",
       "    }\n",
       "</style>\n",
       "<table border=\"1\" class=\"dataframe\">\n",
       "  <thead>\n",
       "    <tr style=\"text-align: right;\">\n",
       "      <th></th>\n",
       "      <th>Country</th>\n",
       "      <th>Alpha-2</th>\n",
       "      <th>Alpha-3</th>\n",
       "      <th>Continent</th>\n",
       "      <th>Anthem</th>\n",
       "    </tr>\n",
       "  </thead>\n",
       "  <tbody>\n",
       "    <tr>\n",
       "      <th>0</th>\n",
       "      <td>Albania</td>\n",
       "      <td>AL</td>\n",
       "      <td>ALB</td>\n",
       "      <td>Europe</td>\n",
       "      <td>Around our flag we stand united, With one wish...</td>\n",
       "    </tr>\n",
       "    <tr>\n",
       "      <th>1</th>\n",
       "      <td>Armenia</td>\n",
       "      <td>AM</td>\n",
       "      <td>ARM</td>\n",
       "      <td>Europe</td>\n",
       "      <td>Our Fatherland, free, independent, That has fo...</td>\n",
       "    </tr>\n",
       "    <tr>\n",
       "      <th>2</th>\n",
       "      <td>Austria</td>\n",
       "      <td>AT</td>\n",
       "      <td>AUT</td>\n",
       "      <td>Europe</td>\n",
       "      <td>Land of mountains, land by the river, Land of ...</td>\n",
       "    </tr>\n",
       "    <tr>\n",
       "      <th>3</th>\n",
       "      <td>Azerbaijan</td>\n",
       "      <td>AZ</td>\n",
       "      <td>AZE</td>\n",
       "      <td>Europe</td>\n",
       "      <td>Azerbaijan, Azerbaijan! The glorious Fatherlan...</td>\n",
       "    </tr>\n",
       "    <tr>\n",
       "      <th>4</th>\n",
       "      <td>Belarus</td>\n",
       "      <td>BY</td>\n",
       "      <td>BLR</td>\n",
       "      <td>Europe</td>\n",
       "      <td>We, Belarusians, are peaceful people, Wholehea...</td>\n",
       "    </tr>\n",
       "  </tbody>\n",
       "</table>\n",
       "</div>"
      ],
      "text/plain": [
       "      Country Alpha-2 Alpha-3 Continent  \\\n",
       "0     Albania      AL     ALB    Europe   \n",
       "1     Armenia      AM     ARM    Europe   \n",
       "2     Austria      AT     AUT    Europe   \n",
       "3  Azerbaijan      AZ     AZE    Europe   \n",
       "4     Belarus      BY     BLR    Europe   \n",
       "\n",
       "                                              Anthem  \n",
       "0  Around our flag we stand united, With one wish...  \n",
       "1  Our Fatherland, free, independent, That has fo...  \n",
       "2  Land of mountains, land by the river, Land of ...  \n",
       "3  Azerbaijan, Azerbaijan! The glorious Fatherlan...  \n",
       "4  We, Belarusians, are peaceful people, Wholehea...  "
      ]
     },
     "execution_count": 26,
     "metadata": {},
     "output_type": "execute_result"
    }
   ],
   "source": [
    "data.head()"
   ]
  },
  {
   "cell_type": "code",
   "execution_count": null,
   "metadata": {},
   "outputs": [],
   "source": []
  }
 ],
 "metadata": {
  "kernelspec": {
   "display_name": "Python 3.10.5 64-bit",
   "language": "python",
   "name": "python3"
  },
  "language_info": {
   "codemirror_mode": {
    "name": "ipython",
    "version": 3
   },
   "file_extension": ".py",
   "mimetype": "text/x-python",
   "name": "python",
   "nbconvert_exporter": "python",
   "pygments_lexer": "ipython3",
   "version": "3.10.5"
  },
  "vscode": {
   "interpreter": {
    "hash": "369f2c481f4da34e4445cda3fffd2e751bd1c4d706f27375911949ba6bb62e1c"
   }
  }
 },
 "nbformat": 4,
 "nbformat_minor": 2
}

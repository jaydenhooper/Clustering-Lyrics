{
 "cells": [
  {
   "cell_type": "markdown",
   "metadata": {},
   "source": [
    "The purpose of the project is this course is for you to show what you have learnt. It is a bit more free that the assignments, we want you to show us that you can use Python to investigate a dataset. "
   ]
  },
  {
   "cell_type": "code",
   "execution_count": 178,
   "metadata": {},
   "outputs": [],
   "source": [
    "import numpy as np\n",
    "import pandas as pd\n",
    "import matplotlib.pyplot as plt\n",
    "%matplotlib inline"
   ]
  },
  {
   "cell_type": "markdown",
   "metadata": {},
   "source": [
    "We are going to look at a different type of data, which is based on words, in this case song lyrics. \n",
    "\n",
    "Since the algorithms that we have seen all take as input some form of numerical vector, we will need to turn the words into numerical vectors. There are a few ways to do this, but the one we are going to use is call a Bag of Words. The reason for calling it a Bag is to suggest that the order of the words doesn't matter, just their frequency. Essentially, it counts how often each word gets used in each piece of text, and then the counts form the input vector. These counts are often normalised by the number of words in the text, since otherwise longer pieces get higher scores than short ones. "
   ]
  },
  {
   "cell_type": "markdown",
   "metadata": {},
   "source": [
    "The dataset we are going to use is a set of song lyrics. There is a zip file on Blackboard containing the lyrics of 80 songs (that Rolling Stone magazine decided were the most amazing songs there are) called `rs_lyrics.zip`. Download it and unzip it. It will make a folder called `rs_lyrics` with the songs inside. The following code will then read then in, and store the songtitle and lyrics in a dataframe."
   ]
  },
  {
   "cell_type": "code",
   "execution_count": 116,
   "metadata": {},
   "outputs": [
    {
     "data": {
      "text/html": [
       "<div>\n",
       "<style scoped>\n",
       "    .dataframe tbody tr th:only-of-type {\n",
       "        vertical-align: middle;\n",
       "    }\n",
       "\n",
       "    .dataframe tbody tr th {\n",
       "        vertical-align: top;\n",
       "    }\n",
       "\n",
       "    .dataframe thead th {\n",
       "        text-align: right;\n",
       "    }\n",
       "</style>\n",
       "<table border=\"1\" class=\"dataframe\">\n",
       "  <thead>\n",
       "    <tr style=\"text-align: right;\">\n",
       "      <th></th>\n",
       "      <th>Name</th>\n",
       "      <th>Lyrics</th>\n",
       "    </tr>\n",
       "  </thead>\n",
       "  <tbody>\n",
       "    <tr>\n",
       "      <th>0</th>\n",
       "      <td>1999</td>\n",
       "      <td>I was dreamin' when I wrote this Forgive me if...</td>\n",
       "    </tr>\n",
       "    <tr>\n",
       "      <th>1</th>\n",
       "      <td>all_apologies</td>\n",
       "      <td>What else should I be All apologies What else ...</td>\n",
       "    </tr>\n",
       "    <tr>\n",
       "      <th>2</th>\n",
       "      <td>anarchy_in_the_uk</td>\n",
       "      <td>I am an antichrist uh I am an anarchist Don't ...</td>\n",
       "    </tr>\n",
       "    <tr>\n",
       "      <th>3</th>\n",
       "      <td>a_day_in_the_life</td>\n",
       "      <td>I read the news today oh boy About a lucky man...</td>\n",
       "    </tr>\n",
       "    <tr>\n",
       "      <th>4</th>\n",
       "      <td>back_in_black</td>\n",
       "      <td>Back in black I hit the sack I've been too lon...</td>\n",
       "    </tr>\n",
       "  </tbody>\n",
       "</table>\n",
       "</div>"
      ],
      "text/plain": [
       "                Name                                             Lyrics\n",
       "0               1999  I was dreamin' when I wrote this Forgive me if...\n",
       "1      all_apologies  What else should I be All apologies What else ...\n",
       "2  anarchy_in_the_uk  I am an antichrist uh I am an anarchist Don't ...\n",
       "3  a_day_in_the_life  I read the news today oh boy About a lucky man...\n",
       "4      back_in_black  Back in black I hit the sack I've been too lon..."
      ]
     },
     "execution_count": 116,
     "metadata": {},
     "output_type": "execute_result"
    }
   ],
   "source": [
    "import os\n",
    "df = pd.DataFrame(columns = [\"Name\",\"Lyrics\"])\n",
    "i=0\n",
    "for filename in os.listdir('rs_lyrics'):\n",
    "   with open(os.path.join('rs_lyrics', filename), 'r') as f:\n",
    "        df.loc[i] =[filename[:-4], f.read().splitlines()]\n",
    "        df[\"Lyrics\"][i] = \" \".join(df[\"Lyrics\"][i])\n",
    "        i+=1\n",
    "df.head()"
   ]
  },
  {
   "cell_type": "markdown",
   "metadata": {},
   "source": [
    "We have to do a lot of work before we can cluster word data. As the length of the vector is the number of different words in all of the texts, it can end up as a very long vector. So we want to \n",
    "- remove the unimportant words\n",
    "- remove the short words\n",
    "- remove the punctuation\n",
    "- make everything lower-case, so that \"Love\" and \"love\" are the same word.\n",
    "\n",
    "There are various ways doing all of these, but they aren't too hard to write yourself. To get single words in lower case from a string called `text` use `text.lower().strip().split()`\n",
    "That sorts out the last of those four aims for us. \n",
    "\n",
    "For the third one, you can use `translate` from the `string` module. Use `import string` and then:\n",
    "`text = text.translate(str.maketrans('', '', string.punctuation))`\n",
    "\n",
    "You should also use `text = text.translate(str.maketrans('','','(1)'))` and the same for (2) to get rid of some text that is in those files that isn't helpful for us."
   ]
  },
  {
   "cell_type": "code",
   "execution_count": 106,
   "metadata": {},
   "outputs": [],
   "source": [
    "import string\n",
    "shortlist = []\n",
    "for i in range(len(df)):\n",
    "    df[\"Lyrics\"][i] = df[\"Lyrics\"][i].translate(str.maketrans('','','(1)'))\n",
    "    df[\"Lyrics\"][i] = df[\"Lyrics\"][i].translate(str.maketrans('','','(2)'))\n",
    "    df[\"Lyrics\"][i] = df[\"Lyrics\"][i].translate(str.maketrans('', '', string.punctuation))"
   ]
  },
  {
   "cell_type": "markdown",
   "metadata": {},
   "source": [
    "Now we need to write a function that deletes any word that is not important. \n",
    "\n",
    "How do you decide if a word in important? One way is to ask somebody. Linguists have a list of them, which they call stopwords. I've downloaded a list of stopwords from the web that is on Blackboards (`stopwords.txt`). Download it and load it using:\n",
    "\n",
    "`with open('../Datasets/stopwords.txt', 'r') as f:\n",
    "    stopwords = f.read().splitlines()`\n",
    "    \n",
    "Then all you need to do is return only the words that are not in that list. One way to do that is with the function below. \n"
   ]
  },
  {
   "cell_type": "code",
   "execution_count": 117,
   "metadata": {},
   "outputs": [],
   "source": [
    "def removeWords(text, removeList):\n",
    "    return [word for word in text.lower().strip().split() if word not in removeList]"
   ]
  },
  {
   "cell_type": "code",
   "execution_count": 118,
   "metadata": {},
   "outputs": [
    {
     "data": {
      "text/plain": [
       "['a', 'about', 'above', 'across', 'after']"
      ]
     },
     "execution_count": 118,
     "metadata": {},
     "output_type": "execute_result"
    }
   ],
   "source": [
    "with open (\"stopWords.txt\", \"r\") as myfile:\n",
    "    stopWords=myfile.read().split('\\n')\n",
    "stopWords[:5]"
   ]
  },
  {
   "cell_type": "markdown",
   "metadata": {},
   "source": [
    "## Task 1\n",
    "\n",
    "Use the function above to (1) remove the stopwords, and (2) remove any words that are less than 3 characters long (so words like 'a' or 'to'). One way to do this is to write a function that returns just the words that are more than two characters long. Another is to make a function that finds any words of 2 characters or less and puts those in a list (you can see them in the output below), and then calls removeWords() with that list. (4 marks)"
   ]
  },
  {
   "cell_type": "code",
   "execution_count": 119,
   "metadata": {},
   "outputs": [
    {
     "data": {
      "text/plain": [
       "0     [dreamin', wrote, forgive, goes, astray, woke,...\n",
       "1     [apologies, say, gay, write, don't, right, apo...\n",
       "2     [antichrist, uh, anarchist, don't, know, want,...\n",
       "3     [read, news, today, oh, boy, lucky, man, grade...\n",
       "4     [black, hit, sack, i've, long,, i'm, glad, yes...\n",
       "                            ...                        \n",
       "75    [hey, mama,, don't, treat, wrong, come, love, ...\n",
       "76    [mother,, mother, there's, crying, brother,, b...\n",
       "77    [dig, picture, engaged, kiss, sweat, body, cov...\n",
       "78    [stone, set, eyes, thorn, twist, side., wait, ...\n",
       "79    [yesterday,, troubles, far, away, looks, they'...\n",
       "Name: Lyrics, Length: 80, dtype: object"
      ]
     },
     "execution_count": 119,
     "metadata": {},
     "output_type": "execute_result"
    }
   ],
   "source": [
    "df[\"Lyrics\"] = df[\"Lyrics\"].apply(lambda x: removeWords(x, stopWords))\n",
    "df[\"Lyrics\"]\n"
   ]
  },
  {
   "cell_type": "code",
   "execution_count": 120,
   "metadata": {},
   "outputs": [],
   "source": [
    "df[\"Lyrics\"] = df[\"Lyrics\"].apply(lambda x: ' '.join(list(filter(lambda y : len(y)>2, x))))"
   ]
  },
  {
   "cell_type": "code",
   "execution_count": 121,
   "metadata": {},
   "outputs": [
    {
     "data": {
      "text/html": [
       "<div>\n",
       "<style scoped>\n",
       "    .dataframe tbody tr th:only-of-type {\n",
       "        vertical-align: middle;\n",
       "    }\n",
       "\n",
       "    .dataframe tbody tr th {\n",
       "        vertical-align: top;\n",
       "    }\n",
       "\n",
       "    .dataframe thead th {\n",
       "        text-align: right;\n",
       "    }\n",
       "</style>\n",
       "<table border=\"1\" class=\"dataframe\">\n",
       "  <thead>\n",
       "    <tr style=\"text-align: right;\">\n",
       "      <th></th>\n",
       "      <th>Name</th>\n",
       "      <th>Lyrics</th>\n",
       "    </tr>\n",
       "  </thead>\n",
       "  <tbody>\n",
       "    <tr>\n",
       "      <th>0</th>\n",
       "      <td>1999</td>\n",
       "      <td>dreamin' wrote forgive goes astray woke mornin...</td>\n",
       "    </tr>\n",
       "    <tr>\n",
       "      <th>1</th>\n",
       "      <td>all_apologies</td>\n",
       "      <td>apologies say gay write don't right apologies ...</td>\n",
       "    </tr>\n",
       "    <tr>\n",
       "      <th>2</th>\n",
       "      <td>anarchy_in_the_uk</td>\n",
       "      <td>antichrist anarchist don't know want know wann...</td>\n",
       "    </tr>\n",
       "    <tr>\n",
       "      <th>3</th>\n",
       "      <td>a_day_in_the_life</td>\n",
       "      <td>read news today boy lucky man grade news sad j...</td>\n",
       "    </tr>\n",
       "    <tr>\n",
       "      <th>4</th>\n",
       "      <td>back_in_black</td>\n",
       "      <td>black hit sack i've long, i'm glad yes i'm let...</td>\n",
       "    </tr>\n",
       "  </tbody>\n",
       "</table>\n",
       "</div>"
      ],
      "text/plain": [
       "                Name                                             Lyrics\n",
       "0               1999  dreamin' wrote forgive goes astray woke mornin...\n",
       "1      all_apologies  apologies say gay write don't right apologies ...\n",
       "2  anarchy_in_the_uk  antichrist anarchist don't know want know wann...\n",
       "3  a_day_in_the_life  read news today boy lucky man grade news sad j...\n",
       "4      back_in_black  black hit sack i've long, i'm glad yes i'm let..."
      ]
     },
     "execution_count": 121,
     "metadata": {},
     "output_type": "execute_result"
    }
   ],
   "source": [
    "df.head()"
   ]
  },
  {
   "cell_type": "markdown",
   "metadata": {},
   "source": [
    "Once you have processed the data using those functions the top of your dataframe should look like this:"
   ]
  },
  {
   "cell_type": "code",
   "execution_count": 112,
   "metadata": {},
   "outputs": [
    {
     "data": {
      "text/html": [
       "<div>\n",
       "<style scoped>\n",
       "    .dataframe tbody tr th:only-of-type {\n",
       "        vertical-align: middle;\n",
       "    }\n",
       "\n",
       "    .dataframe tbody tr th {\n",
       "        vertical-align: top;\n",
       "    }\n",
       "\n",
       "    .dataframe thead th {\n",
       "        text-align: right;\n",
       "    }\n",
       "</style>\n",
       "<table border=\"1\" class=\"dataframe\">\n",
       "  <thead>\n",
       "    <tr style=\"text-align: right;\">\n",
       "      <th></th>\n",
       "      <th>Name</th>\n",
       "      <th>Lyrics</th>\n",
       "    </tr>\n",
       "  </thead>\n",
       "  <tbody>\n",
       "    <tr>\n",
       "      <th>0</th>\n",
       "      <td>1999</td>\n",
       "      <td>dreamin wrote forgive goes astray woke mornin ...</td>\n",
       "    </tr>\n",
       "    <tr>\n",
       "      <th>1</th>\n",
       "      <td>all_apologies</td>\n",
       "      <td>apologies say gay write dont right apologies s...</td>\n",
       "    </tr>\n",
       "    <tr>\n",
       "      <th>2</th>\n",
       "      <td>anarchy_in_the_uk</td>\n",
       "      <td>antichrist anarchist dont know want know wanna...</td>\n",
       "    </tr>\n",
       "    <tr>\n",
       "      <th>3</th>\n",
       "      <td>a_day_in_the_life</td>\n",
       "      <td>read news today boy lucky man grade news sad j...</td>\n",
       "    </tr>\n",
       "    <tr>\n",
       "      <th>4</th>\n",
       "      <td>back_in_black</td>\n",
       "      <td>black hit sack ive long glad yes let loose noo...</td>\n",
       "    </tr>\n",
       "  </tbody>\n",
       "</table>\n",
       "</div>"
      ],
      "text/plain": [
       "                Name                                             Lyrics\n",
       "0               1999  dreamin wrote forgive goes astray woke mornin ...\n",
       "1      all_apologies  apologies say gay write dont right apologies s...\n",
       "2  anarchy_in_the_uk  antichrist anarchist dont know want know wanna...\n",
       "3  a_day_in_the_life  read news today boy lucky man grade news sad j...\n",
       "4      back_in_black  black hit sack ive long glad yes let loose noo..."
      ]
     },
     "execution_count": 112,
     "metadata": {},
     "output_type": "execute_result"
    }
   ],
   "source": [
    "df.head()"
   ]
  },
  {
   "cell_type": "markdown",
   "metadata": {},
   "source": [
    "The next thing we need to do is to get the counts. Again, we could do this by hand, but it taks a long time to run if you don't have efficient code. \n",
    "## Task 2\n",
    "Look up the `TfidVectorizer` in sklearn, and work out how to use it on the Lyrics column (it uses the standard `name.fit_transform` approach in sklearn, you might also want to use `name.get_feature_names()`). Store the counts of each song in a new dataframe called counts. The output below shows the counts vectors of the 5 most common words. The columns are the 80 songs. (4 marks)"
   ]
  },
  {
   "cell_type": "code",
   "execution_count": 171,
   "metadata": {},
   "outputs": [
    {
     "data": {
      "text/html": [
       "<div>\n",
       "<style scoped>\n",
       "    .dataframe tbody tr th:only-of-type {\n",
       "        vertical-align: middle;\n",
       "    }\n",
       "\n",
       "    .dataframe tbody tr th {\n",
       "        vertical-align: top;\n",
       "    }\n",
       "\n",
       "    .dataframe thead th {\n",
       "        text-align: right;\n",
       "    }\n",
       "</style>\n",
       "<table border=\"1\" class=\"dataframe\">\n",
       "  <thead>\n",
       "    <tr style=\"text-align: right;\">\n",
       "      <th></th>\n",
       "      <th>abandoned</th>\n",
       "      <th>aches</th>\n",
       "      <th>achieve</th>\n",
       "      <th>act</th>\n",
       "      <th>actin</th>\n",
       "      <th>admit</th>\n",
       "      <th>adore</th>\n",
       "      <th>advice</th>\n",
       "      <th>affection</th>\n",
       "      <th>afraid</th>\n",
       "      <th>...</th>\n",
       "      <th>yeah</th>\n",
       "      <th>year</th>\n",
       "      <th>years</th>\n",
       "      <th>yes</th>\n",
       "      <th>yesterday</th>\n",
       "      <th>you</th>\n",
       "      <th>young</th>\n",
       "      <th>younger</th>\n",
       "      <th>yours</th>\n",
       "      <th>zero</th>\n",
       "    </tr>\n",
       "  </thead>\n",
       "  <tbody>\n",
       "    <tr>\n",
       "      <th>0</th>\n",
       "      <td>0.0</td>\n",
       "      <td>0.0</td>\n",
       "      <td>0.0</td>\n",
       "      <td>0.0</td>\n",
       "      <td>0.0</td>\n",
       "      <td>0.0</td>\n",
       "      <td>0.0</td>\n",
       "      <td>0.0</td>\n",
       "      <td>0.0</td>\n",
       "      <td>0.0</td>\n",
       "      <td>...</td>\n",
       "      <td>0.075857</td>\n",
       "      <td>0.0</td>\n",
       "      <td>0.0</td>\n",
       "      <td>0.000000</td>\n",
       "      <td>0.00000</td>\n",
       "      <td>0.012047</td>\n",
       "      <td>0.0</td>\n",
       "      <td>0.0</td>\n",
       "      <td>0.0</td>\n",
       "      <td>0.277035</td>\n",
       "    </tr>\n",
       "    <tr>\n",
       "      <th>1</th>\n",
       "      <td>0.0</td>\n",
       "      <td>0.0</td>\n",
       "      <td>0.0</td>\n",
       "      <td>0.0</td>\n",
       "      <td>0.0</td>\n",
       "      <td>0.0</td>\n",
       "      <td>0.0</td>\n",
       "      <td>0.0</td>\n",
       "      <td>0.0</td>\n",
       "      <td>0.0</td>\n",
       "      <td>...</td>\n",
       "      <td>0.189199</td>\n",
       "      <td>0.0</td>\n",
       "      <td>0.0</td>\n",
       "      <td>0.000000</td>\n",
       "      <td>0.00000</td>\n",
       "      <td>0.000000</td>\n",
       "      <td>0.0</td>\n",
       "      <td>0.0</td>\n",
       "      <td>0.0</td>\n",
       "      <td>0.000000</td>\n",
       "    </tr>\n",
       "    <tr>\n",
       "      <th>2</th>\n",
       "      <td>0.0</td>\n",
       "      <td>0.0</td>\n",
       "      <td>0.0</td>\n",
       "      <td>0.0</td>\n",
       "      <td>0.0</td>\n",
       "      <td>0.0</td>\n",
       "      <td>0.0</td>\n",
       "      <td>0.0</td>\n",
       "      <td>0.0</td>\n",
       "      <td>0.0</td>\n",
       "      <td>...</td>\n",
       "      <td>0.000000</td>\n",
       "      <td>0.0</td>\n",
       "      <td>0.0</td>\n",
       "      <td>0.000000</td>\n",
       "      <td>0.00000</td>\n",
       "      <td>0.000000</td>\n",
       "      <td>0.0</td>\n",
       "      <td>0.0</td>\n",
       "      <td>0.0</td>\n",
       "      <td>0.000000</td>\n",
       "    </tr>\n",
       "    <tr>\n",
       "      <th>3</th>\n",
       "      <td>0.0</td>\n",
       "      <td>0.0</td>\n",
       "      <td>0.0</td>\n",
       "      <td>0.0</td>\n",
       "      <td>0.0</td>\n",
       "      <td>0.0</td>\n",
       "      <td>0.0</td>\n",
       "      <td>0.0</td>\n",
       "      <td>0.0</td>\n",
       "      <td>0.0</td>\n",
       "      <td>...</td>\n",
       "      <td>0.000000</td>\n",
       "      <td>0.0</td>\n",
       "      <td>0.0</td>\n",
       "      <td>0.000000</td>\n",
       "      <td>0.00000</td>\n",
       "      <td>0.000000</td>\n",
       "      <td>0.0</td>\n",
       "      <td>0.0</td>\n",
       "      <td>0.0</td>\n",
       "      <td>0.000000</td>\n",
       "    </tr>\n",
       "    <tr>\n",
       "      <th>4</th>\n",
       "      <td>0.0</td>\n",
       "      <td>0.0</td>\n",
       "      <td>0.0</td>\n",
       "      <td>0.0</td>\n",
       "      <td>0.0</td>\n",
       "      <td>0.0</td>\n",
       "      <td>0.0</td>\n",
       "      <td>0.0</td>\n",
       "      <td>0.0</td>\n",
       "      <td>0.0</td>\n",
       "      <td>...</td>\n",
       "      <td>0.000000</td>\n",
       "      <td>0.0</td>\n",
       "      <td>0.0</td>\n",
       "      <td>0.506731</td>\n",
       "      <td>0.00000</td>\n",
       "      <td>0.000000</td>\n",
       "      <td>0.0</td>\n",
       "      <td>0.0</td>\n",
       "      <td>0.0</td>\n",
       "      <td>0.000000</td>\n",
       "    </tr>\n",
       "    <tr>\n",
       "      <th>...</th>\n",
       "      <td>...</td>\n",
       "      <td>...</td>\n",
       "      <td>...</td>\n",
       "      <td>...</td>\n",
       "      <td>...</td>\n",
       "      <td>...</td>\n",
       "      <td>...</td>\n",
       "      <td>...</td>\n",
       "      <td>...</td>\n",
       "      <td>...</td>\n",
       "      <td>...</td>\n",
       "      <td>...</td>\n",
       "      <td>...</td>\n",
       "      <td>...</td>\n",
       "      <td>...</td>\n",
       "      <td>...</td>\n",
       "      <td>...</td>\n",
       "      <td>...</td>\n",
       "      <td>...</td>\n",
       "      <td>...</td>\n",
       "      <td>...</td>\n",
       "    </tr>\n",
       "    <tr>\n",
       "      <th>75</th>\n",
       "      <td>0.0</td>\n",
       "      <td>0.0</td>\n",
       "      <td>0.0</td>\n",
       "      <td>0.0</td>\n",
       "      <td>0.0</td>\n",
       "      <td>0.0</td>\n",
       "      <td>0.0</td>\n",
       "      <td>0.0</td>\n",
       "      <td>0.0</td>\n",
       "      <td>0.0</td>\n",
       "      <td>...</td>\n",
       "      <td>0.189957</td>\n",
       "      <td>0.0</td>\n",
       "      <td>0.0</td>\n",
       "      <td>0.045694</td>\n",
       "      <td>0.00000</td>\n",
       "      <td>0.000000</td>\n",
       "      <td>0.0</td>\n",
       "      <td>0.0</td>\n",
       "      <td>0.0</td>\n",
       "      <td>0.000000</td>\n",
       "    </tr>\n",
       "    <tr>\n",
       "      <th>76</th>\n",
       "      <td>0.0</td>\n",
       "      <td>0.0</td>\n",
       "      <td>0.0</td>\n",
       "      <td>0.0</td>\n",
       "      <td>0.0</td>\n",
       "      <td>0.0</td>\n",
       "      <td>0.0</td>\n",
       "      <td>0.0</td>\n",
       "      <td>0.0</td>\n",
       "      <td>0.0</td>\n",
       "      <td>...</td>\n",
       "      <td>0.059141</td>\n",
       "      <td>0.0</td>\n",
       "      <td>0.0</td>\n",
       "      <td>0.000000</td>\n",
       "      <td>0.00000</td>\n",
       "      <td>0.000000</td>\n",
       "      <td>0.0</td>\n",
       "      <td>0.0</td>\n",
       "      <td>0.0</td>\n",
       "      <td>0.000000</td>\n",
       "    </tr>\n",
       "    <tr>\n",
       "      <th>77</th>\n",
       "      <td>0.0</td>\n",
       "      <td>0.0</td>\n",
       "      <td>0.0</td>\n",
       "      <td>0.0</td>\n",
       "      <td>0.0</td>\n",
       "      <td>0.0</td>\n",
       "      <td>0.0</td>\n",
       "      <td>0.0</td>\n",
       "      <td>0.0</td>\n",
       "      <td>0.0</td>\n",
       "      <td>...</td>\n",
       "      <td>0.131506</td>\n",
       "      <td>0.0</td>\n",
       "      <td>0.0</td>\n",
       "      <td>0.000000</td>\n",
       "      <td>0.00000</td>\n",
       "      <td>0.083540</td>\n",
       "      <td>0.0</td>\n",
       "      <td>0.0</td>\n",
       "      <td>0.0</td>\n",
       "      <td>0.000000</td>\n",
       "    </tr>\n",
       "    <tr>\n",
       "      <th>78</th>\n",
       "      <td>0.0</td>\n",
       "      <td>0.0</td>\n",
       "      <td>0.0</td>\n",
       "      <td>0.0</td>\n",
       "      <td>0.0</td>\n",
       "      <td>0.0</td>\n",
       "      <td>0.0</td>\n",
       "      <td>0.0</td>\n",
       "      <td>0.0</td>\n",
       "      <td>0.0</td>\n",
       "      <td>...</td>\n",
       "      <td>0.000000</td>\n",
       "      <td>0.0</td>\n",
       "      <td>0.0</td>\n",
       "      <td>0.000000</td>\n",
       "      <td>0.00000</td>\n",
       "      <td>0.253428</td>\n",
       "      <td>0.0</td>\n",
       "      <td>0.0</td>\n",
       "      <td>0.0</td>\n",
       "      <td>0.000000</td>\n",
       "    </tr>\n",
       "    <tr>\n",
       "      <th>79</th>\n",
       "      <td>0.0</td>\n",
       "      <td>0.0</td>\n",
       "      <td>0.0</td>\n",
       "      <td>0.0</td>\n",
       "      <td>0.0</td>\n",
       "      <td>0.0</td>\n",
       "      <td>0.0</td>\n",
       "      <td>0.0</td>\n",
       "      <td>0.0</td>\n",
       "      <td>0.0</td>\n",
       "      <td>...</td>\n",
       "      <td>0.000000</td>\n",
       "      <td>0.0</td>\n",
       "      <td>0.0</td>\n",
       "      <td>0.000000</td>\n",
       "      <td>0.68658</td>\n",
       "      <td>0.000000</td>\n",
       "      <td>0.0</td>\n",
       "      <td>0.0</td>\n",
       "      <td>0.0</td>\n",
       "      <td>0.000000</td>\n",
       "    </tr>\n",
       "  </tbody>\n",
       "</table>\n",
       "<p>80 rows × 1906 columns</p>\n",
       "</div>"
      ],
      "text/plain": [
       "    abandoned  aches  achieve  act  actin  admit  adore  advice  affection  \\\n",
       "0         0.0    0.0      0.0  0.0    0.0    0.0    0.0     0.0        0.0   \n",
       "1         0.0    0.0      0.0  0.0    0.0    0.0    0.0     0.0        0.0   \n",
       "2         0.0    0.0      0.0  0.0    0.0    0.0    0.0     0.0        0.0   \n",
       "3         0.0    0.0      0.0  0.0    0.0    0.0    0.0     0.0        0.0   \n",
       "4         0.0    0.0      0.0  0.0    0.0    0.0    0.0     0.0        0.0   \n",
       "..        ...    ...      ...  ...    ...    ...    ...     ...        ...   \n",
       "75        0.0    0.0      0.0  0.0    0.0    0.0    0.0     0.0        0.0   \n",
       "76        0.0    0.0      0.0  0.0    0.0    0.0    0.0     0.0        0.0   \n",
       "77        0.0    0.0      0.0  0.0    0.0    0.0    0.0     0.0        0.0   \n",
       "78        0.0    0.0      0.0  0.0    0.0    0.0    0.0     0.0        0.0   \n",
       "79        0.0    0.0      0.0  0.0    0.0    0.0    0.0     0.0        0.0   \n",
       "\n",
       "    afraid  ...      yeah  year  years       yes  yesterday       you  young  \\\n",
       "0      0.0  ...  0.075857   0.0    0.0  0.000000    0.00000  0.012047    0.0   \n",
       "1      0.0  ...  0.189199   0.0    0.0  0.000000    0.00000  0.000000    0.0   \n",
       "2      0.0  ...  0.000000   0.0    0.0  0.000000    0.00000  0.000000    0.0   \n",
       "3      0.0  ...  0.000000   0.0    0.0  0.000000    0.00000  0.000000    0.0   \n",
       "4      0.0  ...  0.000000   0.0    0.0  0.506731    0.00000  0.000000    0.0   \n",
       "..     ...  ...       ...   ...    ...       ...        ...       ...    ...   \n",
       "75     0.0  ...  0.189957   0.0    0.0  0.045694    0.00000  0.000000    0.0   \n",
       "76     0.0  ...  0.059141   0.0    0.0  0.000000    0.00000  0.000000    0.0   \n",
       "77     0.0  ...  0.131506   0.0    0.0  0.000000    0.00000  0.083540    0.0   \n",
       "78     0.0  ...  0.000000   0.0    0.0  0.000000    0.00000  0.253428    0.0   \n",
       "79     0.0  ...  0.000000   0.0    0.0  0.000000    0.68658  0.000000    0.0   \n",
       "\n",
       "    younger  yours      zero  \n",
       "0       0.0    0.0  0.277035  \n",
       "1       0.0    0.0  0.000000  \n",
       "2       0.0    0.0  0.000000  \n",
       "3       0.0    0.0  0.000000  \n",
       "4       0.0    0.0  0.000000  \n",
       "..      ...    ...       ...  \n",
       "75      0.0    0.0  0.000000  \n",
       "76      0.0    0.0  0.000000  \n",
       "77      0.0    0.0  0.000000  \n",
       "78      0.0    0.0  0.000000  \n",
       "79      0.0    0.0  0.000000  \n",
       "\n",
       "[80 rows x 1906 columns]"
      ]
     },
     "execution_count": 171,
     "metadata": {},
     "output_type": "execute_result"
    }
   ],
   "source": [
    "from sklearn.feature_extraction.text import TfidfVectorizer\n",
    "\n",
    "vectorizer = TfidfVectorizer()\n",
    "X = vectorizer.fit_transform(df[\"Lyrics\"])\n",
    "names = vectorizer.get_feature_names_out()\n",
    "counts = pd.DataFrame(X.toarray(), columns = names)\n",
    "counts"
   ]
  },
  {
   "cell_type": "code",
   "execution_count": 172,
   "metadata": {},
   "outputs": [
    {
     "data": {
      "text/html": [
       "<div>\n",
       "<style scoped>\n",
       "    .dataframe tbody tr th:only-of-type {\n",
       "        vertical-align: middle;\n",
       "    }\n",
       "\n",
       "    .dataframe tbody tr th {\n",
       "        vertical-align: top;\n",
       "    }\n",
       "\n",
       "    .dataframe thead th {\n",
       "        text-align: right;\n",
       "    }\n",
       "</style>\n",
       "<table border=\"1\" class=\"dataframe\">\n",
       "  <thead>\n",
       "    <tr style=\"text-align: right;\">\n",
       "      <th></th>\n",
       "      <th>0</th>\n",
       "      <th>1</th>\n",
       "      <th>2</th>\n",
       "      <th>3</th>\n",
       "      <th>4</th>\n",
       "      <th>5</th>\n",
       "      <th>6</th>\n",
       "      <th>7</th>\n",
       "      <th>8</th>\n",
       "      <th>9</th>\n",
       "      <th>...</th>\n",
       "      <th>70</th>\n",
       "      <th>71</th>\n",
       "      <th>72</th>\n",
       "      <th>73</th>\n",
       "      <th>74</th>\n",
       "      <th>75</th>\n",
       "      <th>76</th>\n",
       "      <th>77</th>\n",
       "      <th>78</th>\n",
       "      <th>79</th>\n",
       "    </tr>\n",
       "  </thead>\n",
       "  <tbody>\n",
       "    <tr>\n",
       "      <th>party</th>\n",
       "      <td>0.723752</td>\n",
       "      <td>0.0</td>\n",
       "      <td>0.0</td>\n",
       "      <td>0.0</td>\n",
       "      <td>0.0</td>\n",
       "      <td>0.0</td>\n",
       "      <td>0.0</td>\n",
       "      <td>0.0</td>\n",
       "      <td>0.0</td>\n",
       "      <td>0.0</td>\n",
       "      <td>...</td>\n",
       "      <td>0.0</td>\n",
       "      <td>0.0</td>\n",
       "      <td>0.0</td>\n",
       "      <td>0.0</td>\n",
       "      <td>0.0</td>\n",
       "      <td>0.0</td>\n",
       "      <td>0.0</td>\n",
       "      <td>0.0</td>\n",
       "      <td>0.0</td>\n",
       "      <td>0.0</td>\n",
       "    </tr>\n",
       "    <tr>\n",
       "      <th>nineteen</th>\n",
       "      <td>0.277035</td>\n",
       "      <td>0.0</td>\n",
       "      <td>0.0</td>\n",
       "      <td>0.0</td>\n",
       "      <td>0.0</td>\n",
       "      <td>0.0</td>\n",
       "      <td>0.0</td>\n",
       "      <td>0.0</td>\n",
       "      <td>0.0</td>\n",
       "      <td>0.0</td>\n",
       "      <td>...</td>\n",
       "      <td>0.0</td>\n",
       "      <td>0.0</td>\n",
       "      <td>0.0</td>\n",
       "      <td>0.0</td>\n",
       "      <td>0.0</td>\n",
       "      <td>0.0</td>\n",
       "      <td>0.0</td>\n",
       "      <td>0.0</td>\n",
       "      <td>0.0</td>\n",
       "      <td>0.0</td>\n",
       "    </tr>\n",
       "    <tr>\n",
       "      <th>ninety</th>\n",
       "      <td>0.277035</td>\n",
       "      <td>0.0</td>\n",
       "      <td>0.0</td>\n",
       "      <td>0.0</td>\n",
       "      <td>0.0</td>\n",
       "      <td>0.0</td>\n",
       "      <td>0.0</td>\n",
       "      <td>0.0</td>\n",
       "      <td>0.0</td>\n",
       "      <td>0.0</td>\n",
       "      <td>...</td>\n",
       "      <td>0.0</td>\n",
       "      <td>0.0</td>\n",
       "      <td>0.0</td>\n",
       "      <td>0.0</td>\n",
       "      <td>0.0</td>\n",
       "      <td>0.0</td>\n",
       "      <td>0.0</td>\n",
       "      <td>0.0</td>\n",
       "      <td>0.0</td>\n",
       "      <td>0.0</td>\n",
       "    </tr>\n",
       "    <tr>\n",
       "      <th>zero</th>\n",
       "      <td>0.277035</td>\n",
       "      <td>0.0</td>\n",
       "      <td>0.0</td>\n",
       "      <td>0.0</td>\n",
       "      <td>0.0</td>\n",
       "      <td>0.0</td>\n",
       "      <td>0.0</td>\n",
       "      <td>0.0</td>\n",
       "      <td>0.0</td>\n",
       "      <td>0.0</td>\n",
       "      <td>...</td>\n",
       "      <td>0.0</td>\n",
       "      <td>0.0</td>\n",
       "      <td>0.0</td>\n",
       "      <td>0.0</td>\n",
       "      <td>0.0</td>\n",
       "      <td>0.0</td>\n",
       "      <td>0.0</td>\n",
       "      <td>0.0</td>\n",
       "      <td>0.0</td>\n",
       "      <td>0.0</td>\n",
       "    </tr>\n",
       "    <tr>\n",
       "      <th>oops</th>\n",
       "      <td>0.151592</td>\n",
       "      <td>0.0</td>\n",
       "      <td>0.0</td>\n",
       "      <td>0.0</td>\n",
       "      <td>0.0</td>\n",
       "      <td>0.0</td>\n",
       "      <td>0.0</td>\n",
       "      <td>0.0</td>\n",
       "      <td>0.0</td>\n",
       "      <td>0.0</td>\n",
       "      <td>...</td>\n",
       "      <td>0.0</td>\n",
       "      <td>0.0</td>\n",
       "      <td>0.0</td>\n",
       "      <td>0.0</td>\n",
       "      <td>0.0</td>\n",
       "      <td>0.0</td>\n",
       "      <td>0.0</td>\n",
       "      <td>0.0</td>\n",
       "      <td>0.0</td>\n",
       "      <td>0.0</td>\n",
       "    </tr>\n",
       "  </tbody>\n",
       "</table>\n",
       "<p>5 rows × 80 columns</p>\n",
       "</div>"
      ],
      "text/plain": [
       "                0    1    2    3    4    5    6    7    8    9   ...   70  \\\n",
       "party     0.723752  0.0  0.0  0.0  0.0  0.0  0.0  0.0  0.0  0.0  ...  0.0   \n",
       "nineteen  0.277035  0.0  0.0  0.0  0.0  0.0  0.0  0.0  0.0  0.0  ...  0.0   \n",
       "ninety    0.277035  0.0  0.0  0.0  0.0  0.0  0.0  0.0  0.0  0.0  ...  0.0   \n",
       "zero      0.277035  0.0  0.0  0.0  0.0  0.0  0.0  0.0  0.0  0.0  ...  0.0   \n",
       "oops      0.151592  0.0  0.0  0.0  0.0  0.0  0.0  0.0  0.0  0.0  ...  0.0   \n",
       "\n",
       "           71   72   73   74   75   76   77   78   79  \n",
       "party     0.0  0.0  0.0  0.0  0.0  0.0  0.0  0.0  0.0  \n",
       "nineteen  0.0  0.0  0.0  0.0  0.0  0.0  0.0  0.0  0.0  \n",
       "ninety    0.0  0.0  0.0  0.0  0.0  0.0  0.0  0.0  0.0  \n",
       "zero      0.0  0.0  0.0  0.0  0.0  0.0  0.0  0.0  0.0  \n",
       "oops      0.0  0.0  0.0  0.0  0.0  0.0  0.0  0.0  0.0  \n",
       "\n",
       "[5 rows x 80 columns]"
      ]
     },
     "execution_count": 172,
     "metadata": {},
     "output_type": "execute_result"
    }
   ],
   "source": [
    "\n",
    "counts.T.nlargest(5, 0)"
   ]
  },
  {
   "cell_type": "code",
   "execution_count": 160,
   "metadata": {},
   "outputs": [
    {
     "data": {
      "text/plain": [
       "53    0.326429\n",
       "27    0.140877\n",
       "42    0.112504\n",
       "23    0.099513\n",
       "79    0.090966\n",
       "        ...   \n",
       "29    0.000000\n",
       "26    0.000000\n",
       "24    0.000000\n",
       "22    0.000000\n",
       "40    0.000000\n",
       "Name: need, Length: 80, dtype: float64"
      ]
     },
     "execution_count": 160,
     "metadata": {},
     "output_type": "execute_result"
    }
   ],
   "source": [
    "counts.T.loc[\"need\"].sort_values(ascending=False)"
   ]
  },
  {
   "cell_type": "markdown",
   "metadata": {},
   "source": [
    "# Task 3\n",
    "Use PCA to plot the positions of the songs in 2D using the counts vectors. It isn't so informative yet, since we don't have any information about clusters in the data. (3 marks)"
   ]
  },
  {
   "cell_type": "code",
   "execution_count": 179,
   "metadata": {},
   "outputs": [
    {
     "data": {
      "text/plain": [
       "[<matplotlib.lines.Line2D at 0x1fe8ad40490>]"
      ]
     },
     "execution_count": 179,
     "metadata": {},
     "output_type": "execute_result"
    },
    {
     "data": {
      "image/png": "[encoded data removed]",
      "text/plain": [
       "<Figure size 432x288 with 1 Axes>"
      ]
     },
     "metadata": {
      "needs_background": "light"
     },
     "output_type": "display_data"
    }
   ],
   "source": [
    "from sklearn.decomposition import PCA\n",
    "pca = PCA(2)\n",
    "coordinates = pca.fit_transform(counts)\n",
    "plt.plot(coordinates[:,0], coordinates[:,1], '.')"
   ]
  },
  {
   "cell_type": "code",
   "execution_count": null,
   "metadata": {},
   "outputs": [
    {
     "name": "stderr",
     "output_type": "stream",
     "text": [
      "/home/marslast/anaconda3/lib/python3.7/site-packages/matplotlib/cbook/__init__.py:1298: ComplexWarning: Casting complex values to real discards the imaginary part\n",
      "  return np.asarray(x, float)\n"
     ]
    },
    {
     "data": {
      "text/plain": [
       "[<matplotlib.lines.Line2D at 0x7f55ea526450>]"
      ]
     },
     "execution_count": 12,
     "metadata": {},
     "output_type": "execute_result"
    },
    {
     "data": {
      "image/png": "[encoded data removed]",
      "text/plain": [
       "<Figure size 432x288 with 1 Axes>"
      ]
     },
     "metadata": {
      "needs_background": "light"
     },
     "output_type": "display_data"
    }
   ],
   "source": []
  },
  {
   "cell_type": "markdown",
   "metadata": {},
   "source": [
    "## Task 4\n",
    "The next thing to do is to try and cluster the songs together according to their count vectors. You can use any algorithm you like, but I recommend $k$-means. For now, just pick an arbitrary number of clusters (I used 4), but make sure you can cluster the data. Take a look at the songs inside a cluster and see if you think they have any similarities. (4 marks)"
   ]
  },
  {
   "cell_type": "code",
   "execution_count": 211,
   "metadata": {},
   "outputs": [
    {
     "data": {
      "text/plain": [
       "array([[1.04421806, 0.96437417, 0.99165601, 1.04139943],\n",
       "       [1.06498002, 1.02472818, 0.98521786, 1.07322604],\n",
       "       [1.05990539, 0.97241998, 1.00850221, 1.0710602 ],\n",
       "       [1.05308552, 1.01178263, 0.97158571, 1.07023396],\n",
       "       [1.04834623, 1.01384256, 0.97033197, 1.0407027 ]])"
      ]
     },
     "execution_count": 211,
     "metadata": {},
     "output_type": "execute_result"
    }
   ],
   "source": [
    "from sklearn.cluster import KMeans\n",
    "\n",
    "KMeans = KMeans(n_clusters=4, random_state = 0).fit(counts)\n",
    "KMeans_t = KMeans.transform(counts)\n",
    "KMeans_pred = KMeans.predict(counts)\n",
    "KMeans.cluster_centers_\n",
    "KMeans_t[:5]"
   ]
  },
  {
   "cell_type": "code",
   "execution_count": null,
   "metadata": {},
   "outputs": [
    {
     "data": {
      "text/plain": [
       "KMeans(algorithm='full', n_clusters=4, random_state=1)"
      ]
     },
     "execution_count": 13,
     "metadata": {},
     "output_type": "execute_result"
    }
   ],
   "source": []
  },
  {
   "cell_type": "markdown",
   "metadata": {},
   "source": [
    "We need to do some more work to work out how many clusters there are. To do this we will take is to see which words are the most common in each cluster. If the cluster is good, then we would expect to see quite a few words in common between the songs in the cluster. There is a function below (`get_top_features_cluster`) that finds them if you give it predictions make by the $k$-means algorithm and the number of words you want. \n",
    "\n",
    "## Task 5\n",
    "Work out how to use the algorithm on the output from $k$-means, and then plot the bar charts for the different clusters. (`df.plot.bar()` will plot things from a Pandas dataframe). You should also use the PCA data and plot the points in different colours according to the clusters kmeans has found. Use both of these resources to decide how many clusters there are in the data.Explain your answer. (7 marks)"
   ]
  },
  {
   "cell_type": "code",
   "execution_count": 226,
   "metadata": {},
   "outputs": [],
   "source": [
    "def get_top_features_cluster(counts, prediction, nfeatures):\n",
    "    labels = np.unique(prediction)\n",
    "    df1 = []\n",
    "    for label in labels:\n",
    "        inds = np.where(prediction==label) \n",
    "        means = np.mean(counts[inds], axis = 0) \n",
    "        sorted_means = np.argsort(means)[::-1][:nfeatures] \n",
    "        features = vectorizer.get_feature_names_out()\n",
    "        best_features = [(features[i], means[i]) for i in sorted_means]\n",
    "        newdf = pd.DataFrame(best_features, columns = ['features', 'score'])\n",
    "        df1.append(newdf)\n",
    "    return df1"
   ]
  },
  {
   "cell_type": "code",
   "execution_count": 225,
   "metadata": {},
   "outputs": [
    {
     "data": {
      "image/png": "[encoded data removed]",
      "text/plain": [
       "<Figure size 432x288 with 1 Axes>"
      ]
     },
     "metadata": {
      "needs_background": "light"
     },
     "output_type": "display_data"
    },
    {
     "data": {
      "image/png": "[encoded data removed]",
      "text/plain": [
       "<Figure size 432x288 with 1 Axes>"
      ]
     },
     "metadata": {
      "needs_background": "light"
     },
     "output_type": "display_data"
    },
    {
     "data": {
      "image/png": "[encoded data removed]",
      "text/plain": [
       "<Figure size 432x288 with 1 Axes>"
      ]
     },
     "metadata": {
      "needs_background": "light"
     },
     "output_type": "display_data"
    },
    {
     "data": {
      "image/png": "[encoded data removed]",
      "text/plain": [
       "<Figure size 432x288 with 1 Axes>"
      ]
     },
     "metadata": {
      "needs_background": "light"
     },
     "output_type": "display_data"
    }
   ],
   "source": [
    "df1 = get_top_features_cluster(counts, KMeans_pred, 20)\n",
    "for i in range(4):\n",
    "    plt.figure()\n",
    "    plt.bar(df1[i][\"features\"], df1[i][\"score\"])\n",
    "    plt.title(\"Cluster \" + str(i+1))\n",
    "    plt.xticks(rotation=90)\n",
    "    plt.show()"
   ]
  },
  {
   "cell_type": "code",
   "execution_count": null,
   "metadata": {},
   "outputs": [
    {
     "name": "stderr",
     "output_type": "stream",
     "text": [
      "/home/marslast/miniconda3/lib/python3.8/site-packages/sklearn/utils/deprecation.py:87: FutureWarning: Function get_feature_names is deprecated; get_feature_names is deprecated in 1.0 and will be removed in 1.2. Please use get_feature_names_out instead.\n",
      "  warnings.warn(msg, category=FutureWarning)\n"
     ]
    },
    {
     "data": {
      "image/png": "[encoded data removed]",
      "text/plain": [
       "<Figure size 432x288 with 1 Axes>"
      ]
     },
     "metadata": {
      "needs_background": "light"
     },
     "output_type": "display_data"
    },
    {
     "data": {
      "image/png": "[encoded data removed]",
      "text/plain": [
       "<Figure size 432x288 with 1 Axes>"
      ]
     },
     "metadata": {
      "needs_background": "light"
     },
     "output_type": "display_data"
    },
    {
     "data": {
      "image/png": "[encoded data removed]",
      "text/plain": [
       "<Figure size 432x288 with 1 Axes>"
      ]
     },
     "metadata": {
      "needs_background": "light"
     },
     "output_type": "display_data"
    },
    {
     "data": {
      "image/png": "[encoded data removed]",
      "text/plain": [
       "<Figure size 432x288 with 1 Axes>"
      ]
     },
     "metadata": {
      "needs_background": "light"
     },
     "output_type": "display_data"
    }
   ],
   "source": []
  },
  {
   "cell_type": "markdown",
   "metadata": {},
   "source": [
    "## Task 6\n",
    "Repeat this analysis on the dataset of national anthems that is available on Blackboard as `anthems.csv` and comment on the differences in words and clusters. This dataset includes the continent that the country is on. Does using this variable change your clusters? (8 marks)"
   ]
  },
  {
   "cell_type": "code",
   "execution_count": null,
   "metadata": {},
   "outputs": [
    {
     "data": {
      "text/html": [
       "<div>\n",
       "<style scoped>\n",
       "    .dataframe tbody tr th:only-of-type {\n",
       "        vertical-align: middle;\n",
       "    }\n",
       "\n",
       "    .dataframe tbody tr th {\n",
       "        vertical-align: top;\n",
       "    }\n",
       "\n",
       "    .dataframe thead th {\n",
       "        text-align: right;\n",
       "    }\n",
       "</style>\n",
       "<table border=\"1\" class=\"dataframe\">\n",
       "  <thead>\n",
       "    <tr style=\"text-align: right;\">\n",
       "      <th></th>\n",
       "      <th>Country</th>\n",
       "      <th>Alpha-2</th>\n",
       "      <th>Alpha-3</th>\n",
       "      <th>Continent</th>\n",
       "      <th>Anthem</th>\n",
       "    </tr>\n",
       "  </thead>\n",
       "  <tbody>\n",
       "    <tr>\n",
       "      <th>0</th>\n",
       "      <td>Albania</td>\n",
       "      <td>AL</td>\n",
       "      <td>ALB</td>\n",
       "      <td>Europe</td>\n",
       "      <td>Around our flag we stand united, With one wish...</td>\n",
       "    </tr>\n",
       "    <tr>\n",
       "      <th>1</th>\n",
       "      <td>Armenia</td>\n",
       "      <td>AM</td>\n",
       "      <td>ARM</td>\n",
       "      <td>Europe</td>\n",
       "      <td>Our Fatherland, free, independent, That has fo...</td>\n",
       "    </tr>\n",
       "    <tr>\n",
       "      <th>2</th>\n",
       "      <td>Austria</td>\n",
       "      <td>AT</td>\n",
       "      <td>AUT</td>\n",
       "      <td>Europe</td>\n",
       "      <td>Land of mountains, land by the river, Land of ...</td>\n",
       "    </tr>\n",
       "    <tr>\n",
       "      <th>3</th>\n",
       "      <td>Azerbaijan</td>\n",
       "      <td>AZ</td>\n",
       "      <td>AZE</td>\n",
       "      <td>Europe</td>\n",
       "      <td>Azerbaijan, Azerbaijan! The glorious Fatherlan...</td>\n",
       "    </tr>\n",
       "    <tr>\n",
       "      <th>4</th>\n",
       "      <td>Belarus</td>\n",
       "      <td>BY</td>\n",
       "      <td>BLR</td>\n",
       "      <td>Europe</td>\n",
       "      <td>We, Belarusians, are peaceful people, Wholehea...</td>\n",
       "    </tr>\n",
       "  </tbody>\n",
       "</table>\n",
       "</div>"
      ],
      "text/plain": [
       "      Country Alpha-2 Alpha-3 Continent  \\\n",
       "0     Albania      AL     ALB    Europe   \n",
       "1     Armenia      AM     ARM    Europe   \n",
       "2     Austria      AT     AUT    Europe   \n",
       "3  Azerbaijan      AZ     AZE    Europe   \n",
       "4     Belarus      BY     BLR    Europe   \n",
       "\n",
       "                                              Anthem  \n",
       "0  Around our flag we stand united, With one wish...  \n",
       "1  Our Fatherland, free, independent, That has fo...  \n",
       "2  Land of mountains, land by the river, Land of ...  \n",
       "3  Azerbaijan, Azerbaijan! The glorious Fatherlan...  \n",
       "4  We, Belarusians, are peaceful people, Wholehea...  "
      ]
     },
     "execution_count": 4,
     "metadata": {},
     "output_type": "execute_result"
    }
   ],
   "source": [
    "data = pd.read_csv(\"anthems.csv\", encoding = 'utf-8')\n",
    "data.head()"
   ]
  },
  {
   "cell_type": "code",
   "execution_count": null,
   "metadata": {},
   "outputs": [],
   "source": [
    "data = pd.read_csv('../../Datasets/anthems.csv', encoding='utf-8')"
   ]
  },
  {
   "cell_type": "code",
   "execution_count": null,
   "metadata": {},
   "outputs": [
    {
     "data": {
      "text/html": [
       "<div>\n",
       "<style scoped>\n",
       "    .dataframe tbody tr th:only-of-type {\n",
       "        vertical-align: middle;\n",
       "    }\n",
       "\n",
       "    .dataframe tbody tr th {\n",
       "        vertical-align: top;\n",
       "    }\n",
       "\n",
       "    .dataframe thead th {\n",
       "        text-align: right;\n",
       "    }\n",
       "</style>\n",
       "<table border=\"1\" class=\"dataframe\">\n",
       "  <thead>\n",
       "    <tr style=\"text-align: right;\">\n",
       "      <th></th>\n",
       "      <th>Country</th>\n",
       "      <th>Alpha-2</th>\n",
       "      <th>Alpha-3</th>\n",
       "      <th>Continent</th>\n",
       "      <th>Anthem</th>\n",
       "    </tr>\n",
       "  </thead>\n",
       "  <tbody>\n",
       "    <tr>\n",
       "      <th>0</th>\n",
       "      <td>Albania</td>\n",
       "      <td>AL</td>\n",
       "      <td>ALB</td>\n",
       "      <td>Europe</td>\n",
       "      <td>Around our flag we stand united, With one wish...</td>\n",
       "    </tr>\n",
       "    <tr>\n",
       "      <th>1</th>\n",
       "      <td>Armenia</td>\n",
       "      <td>AM</td>\n",
       "      <td>ARM</td>\n",
       "      <td>Europe</td>\n",
       "      <td>Our Fatherland, free, independent, That has fo...</td>\n",
       "    </tr>\n",
       "    <tr>\n",
       "      <th>2</th>\n",
       "      <td>Austria</td>\n",
       "      <td>AT</td>\n",
       "      <td>AUT</td>\n",
       "      <td>Europe</td>\n",
       "      <td>Land of mountains, land by the river, Land of ...</td>\n",
       "    </tr>\n",
       "    <tr>\n",
       "      <th>3</th>\n",
       "      <td>Azerbaijan</td>\n",
       "      <td>AZ</td>\n",
       "      <td>AZE</td>\n",
       "      <td>Europe</td>\n",
       "      <td>Azerbaijan, Azerbaijan! The glorious Fatherlan...</td>\n",
       "    </tr>\n",
       "    <tr>\n",
       "      <th>4</th>\n",
       "      <td>Belarus</td>\n",
       "      <td>BY</td>\n",
       "      <td>BLR</td>\n",
       "      <td>Europe</td>\n",
       "      <td>We, Belarusians, are peaceful people, Wholehea...</td>\n",
       "    </tr>\n",
       "  </tbody>\n",
       "</table>\n",
       "</div>"
      ],
      "text/plain": [
       "      Country Alpha-2 Alpha-3 Continent  \\\n",
       "0     Albania      AL     ALB    Europe   \n",
       "1     Armenia      AM     ARM    Europe   \n",
       "2     Austria      AT     AUT    Europe   \n",
       "3  Azerbaijan      AZ     AZE    Europe   \n",
       "4     Belarus      BY     BLR    Europe   \n",
       "\n",
       "                                              Anthem  \n",
       "0  Around our flag we stand united, With one wish...  \n",
       "1  Our Fatherland, free, independent, That has fo...  \n",
       "2  Land of mountains, land by the river, Land of ...  \n",
       "3  Azerbaijan, Azerbaijan! The glorious Fatherlan...  \n",
       "4  We, Belarusians, are peaceful people, Wholehea...  "
      ]
     },
     "execution_count": 26,
     "metadata": {},
     "output_type": "execute_result"
    }
   ],
   "source": [
    "data.head()"
   ]
  },
  {
   "cell_type": "code",
   "execution_count": null,
   "metadata": {},
   "outputs": [],
   "source": []
  }
 ],
 "metadata": {
  "kernelspec": {
   "display_name": "Python 3.10.5 64-bit",
   "language": "python",
   "name": "python3"
  },
  "language_info": {
   "codemirror_mode": {
    "name": "ipython",
    "version": 3
   },
   "file_extension": ".py",
   "mimetype": "text/x-python",
   "name": "python",
   "nbconvert_exporter": "python",
   "pygments_lexer": "ipython3",
   "version": "3.10.5"
  },
  "vscode": {
   "interpreter": {
    "hash": "369f2c481f4da34e4445cda3fffd2e751bd1c4d706f27375911949ba6bb62e1c"
   }
  }
 },
 "nbformat": 4,
 "nbformat_minor": 2
}
